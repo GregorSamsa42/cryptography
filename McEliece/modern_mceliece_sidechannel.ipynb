{
 "cells": [
  {
   "cell_type": "code",
   "execution_count": 15,
   "id": "ff11b85e-6c08-472c-9093-387969b25c41",
   "metadata": {
    "scrolled": true
   },
   "outputs": [
    {
     "name": "stdout",
     "output_type": "stream",
     "text": [
      "This is the message\n",
      "[1, 0, 1, 0, 0, 1, 1, 0, 1, 1, 0, 0, 1, 1, 0, 1, 0, 1, 1, 0, 1, 1, 0]\n",
      "This is the error\n",
      "(1, 0, 0, 1, 0, 0, 0, 0, 0, 0, 0, 1, 0, 0, 0, 0, 0, 1, 0, 0, 0, 0, 0, 0, 0, 0, 0, 0, 0, 0, 0, 0, 0, 0, 0, 0, 0, 0, 1, 0, 0, 0, 0, 0, 0, 0, 0, 0, 0, 0, 0, 0, 0, 0, 1, 0, 0, 0, 1, 0, 0, 0, 0, 1, 1, 0, 0, 0, 0, 0, 0, 0, 0, 0, 0, 0, 0, 0, 0, 0, 0, 0, 0, 0, 0, 0, 0, 0, 0, 0, 0, 0, 1, 0, 0, 0, 0, 0, 0, 0, 0, 1, 0, 0, 0, 0, 0, 1, 0, 0, 0, 0, 1, 0, 0, 0, 0, 0, 1, 1, 0, 0, 0, 0, 0, 0, 0, 0)\n",
      "This is the codeword:\n",
      "(0, 1, 0, 0, 1, 0, 1, 1, 0, 0, 0, 0, 1, 0, 1, 0, 0, 0, 0, 1, 1, 1, 0, 1, 1, 1, 0, 1, 1, 0, 1, 0, 0, 1, 1, 1, 0, 1, 0, 0, 0, 0, 1, 1, 0, 0, 0, 1, 0, 0, 1, 0, 0, 0, 1, 0, 1, 0, 0, 0, 1, 1, 0, 0, 1, 0, 1, 0, 1, 0, 1, 0, 0, 1, 0, 1, 0, 1, 1, 1, 0, 0, 0, 1, 0, 0, 1, 1, 1, 1, 0, 0, 0, 1, 1, 1, 1, 0, 0, 0, 1, 1, 1, 0, 0, 1, 0, 0, 0, 0, 1, 1, 1, 1, 1, 0, 0, 1, 0, 1, 1, 0, 1, 1, 0, 1, 1, 0)\n",
      "This is the decrypted codeword:\n",
      "(1, 0, 1, 0, 0, 1, 1, 0, 1, 1, 0, 0, 1, 1, 0, 1, 0, 1, 1, 0, 1, 1, 0)\n"
     ]
    }
   ],
   "source": [
    "%run modern_mceliece.ipynb\n",
    "# codeword can be accessed as c and public key as cryptosystem.public_key\n",
    "import time\n",
    "import numpy"
   ]
  },
  {
   "cell_type": "code",
   "execution_count": 18,
   "id": "b34ab1ec-20ae-4ea1-9639-7aa602c3bf36",
   "metadata": {},
   "outputs": [
    {
     "name": "stdout",
     "output_type": "stream",
     "text": [
      "[73, 28, 25, 0, 54, 26, 52, 27, 53, 29, 23, 41, 30, 40, 55]\n"
     ]
    },
    {
     "ename": "ValueError",
     "evalue": "matrix equation has no solutions",
     "output_type": "error",
     "traceback": [
      "\u001b[0;31m---------------------------------------------------------------------------\u001b[0m",
      "\u001b[0;31mValueError\u001b[0m                                Traceback (most recent call last)",
      "Cell \u001b[0;32mIn[18], line 22\u001b[0m\n\u001b[1;32m     20\u001b[0m     msg_guess \u001b[38;5;241m=\u001b[39m G\u001b[38;5;241m.\u001b[39msolve_right(codeword_guess)\n\u001b[1;32m     21\u001b[0m     \u001b[38;5;28;01mreturn\u001b[39;00m msg_guess\n\u001b[0;32m---> 22\u001b[0m \u001b[38;5;28mprint\u001b[39m(\u001b[43mguess_error\u001b[49m\u001b[43m(\u001b[49m\u001b[43m)\u001b[49m)\n",
      "Cell \u001b[0;32mIn[18], line 20\u001b[0m, in \u001b[0;36mguess_error\u001b[0;34m()\u001b[0m\n\u001b[1;32m     17\u001b[0m \u001b[38;5;66;03m# now hope this is a codeword, i.e. can apply left inverse to G to get it:\u001b[39;00m\n\u001b[1;32m     18\u001b[0m G \u001b[38;5;241m=\u001b[39m cryptosystem\u001b[38;5;241m.\u001b[39mpublic_key\u001b[38;5;241m.\u001b[39mstack(matrix\u001b[38;5;241m.\u001b[39midentity(Integer(\u001b[38;5;241m2\u001b[39m)\u001b[38;5;241m*\u001b[39m\u001b[38;5;241m*\u001b[39mm\u001b[38;5;241m-\u001b[39mm\u001b[38;5;241m*\u001b[39mt)) \u001b[38;5;66;03m# generator matrix, n x (n-mt)\u001b[39;00m\n\u001b[0;32m---> 20\u001b[0m msg_guess \u001b[38;5;241m=\u001b[39m \u001b[43mG\u001b[49m\u001b[38;5;241;43m.\u001b[39;49m\u001b[43msolve_right\u001b[49m\u001b[43m(\u001b[49m\u001b[43mcodeword_guess\u001b[49m\u001b[43m)\u001b[49m\n\u001b[1;32m     21\u001b[0m \u001b[38;5;28;01mreturn\u001b[39;00m msg_guess\n",
      "File \u001b[0;32m~/sage/src/sage/matrix/matrix2.pyx:956\u001b[0m, in \u001b[0;36msage.matrix.matrix2.Matrix.solve_right\u001b[0;34m()\u001b[0m\n\u001b[1;32m    954\u001b[0m \n\u001b[1;32m    955\u001b[0m         if not self.is_square():\n\u001b[0;32m--> 956\u001b[0m             X = self._solve_right_general(C, check=check)\n\u001b[1;32m    957\u001b[0m         else:\n\u001b[1;32m    958\u001b[0m             try:\n",
      "File \u001b[0;32m~/sage/src/sage/matrix/matrix2.pyx:1075\u001b[0m, in \u001b[0;36msage.matrix.matrix2.Matrix._solve_right_general\u001b[0;34m()\u001b[0m\n\u001b[1;32m   1073\u001b[0m     # Have to check that we actually solved the equation.\n\u001b[1;32m   1074\u001b[0m     if self*X != B:\n\u001b[0;32m-> 1075\u001b[0m         raise ValueError(\"matrix equation has no solutions\")\n\u001b[1;32m   1076\u001b[0m return X\n\u001b[1;32m   1077\u001b[0m \n",
      "\u001b[0;31mValueError\u001b[0m: matrix equation has no solutions"
     ]
    }
   ],
   "source": [
    "# the goal is to deduce msg just from the ciphertext. Are allowed to choose ciphertexts as we want, but we do not receive the output\n",
    "def guess_error():\n",
    "    times = [0]*(2^m)\n",
    "    for i in range(2^m):\n",
    "        d = c\n",
    "        d[i] = 1-d[i]\n",
    "        start = time.time()\n",
    "        for j in range(20):\n",
    "            cryptosystem.decrypt(d)\n",
    "        end = time.time()\n",
    "        times[i] = start - end #want negative as argsort sorts ascendingly\n",
    "    # get the error locations as an array. Correct them in the codeword c\n",
    "    error_guess = numpy.argsort(times).tolist()[0:t]\n",
    "    print(error_guess)\n",
    "    codeword_guess = c\n",
    "    for k in error_guess:\n",
    "        codeword_guess[k] = 1 - codeword_guess[k]\n",
    "    # now hope this is a codeword, i.e. can apply left inverse to G to get it:\n",
    "    G = cryptosystem.public_key.stack(matrix.identity(2^m-m*t)) # generator matrix, n x (n-mt)\n",
    "    \n",
    "    msg_guess = G.solve_right(codeword_guess)\n",
    "    return msg_guess\n",
    "print(guess_error())\n",
    "\n",
    "    \n"
   ]
  },
  {
   "cell_type": "code",
   "execution_count": null,
   "id": "b00ea4c9-3924-4e36-a0b8-3876decc19e9",
   "metadata": {},
   "outputs": [],
   "source": []
  }
 ],
 "metadata": {
  "kernelspec": {
   "display_name": "SageMath 10.4",
   "language": "sage",
   "name": "sagemath"
  },
  "language_info": {
   "codemirror_mode": {
    "name": "ipython",
    "version": 3
   },
   "file_extension": ".py",
   "mimetype": "text/x-python",
   "name": "python",
   "nbconvert_exporter": "python",
   "pygments_lexer": "ipython3",
   "version": "3.10.12"
  }
 },
 "nbformat": 4,
 "nbformat_minor": 5
}
