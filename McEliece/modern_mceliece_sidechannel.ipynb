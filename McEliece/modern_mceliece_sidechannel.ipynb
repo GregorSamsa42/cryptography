{
 "cells": [
  {
   "cell_type": "code",
   "execution_count": 1,
   "id": "ff11b85e-6c08-472c-9093-387969b25c41",
   "metadata": {},
   "outputs": [
    {
     "name": "stdout",
     "output_type": "stream",
     "text": [
      "This is the codeword:\n",
      "(0, 1, 1, 0, 1, 1, 1, 0, 1, 0, 0, 1, 1, 1, 0, 0, 1, 1, 0, 1, 0, 0, 0, 1, 1, 0, 0, 0, 1, 1, 1, 0)\n",
      "This is the decrypted codeword:\n",
      "(0, 1, 1, 1, 0, 0, 1, 1, 1, 1, 0, 0, 0, 1, 1, 0, 0, 0, 1, 1, 1, 0)\n"
     ]
    }
   ],
   "source": [
    "%run modern_mceliece.ipynb\n",
    "import time"
   ]
  },
  {
   "cell_type": "code",
   "execution_count": null,
   "id": "7b127155-9ea2-48c7-bde8-fe1f402c8e2b",
   "metadata": {},
   "outputs": [],
   "source": [
    "cryptosystem = McEliece()\n",
    "msg = [0,1,1,1,0,0,1,1,1,1,0,0,0,1,1,0,0,0,1,1,1,0]\n",
    "c = cryptosystem.encrypt(msg)\n",
    "# the goal is to deduce msg just from the ciphertext. Are allowed to choose ciphertexts as we want, but we do not receive the output\n",
    "\n",
    "\n"
   ]
  }
 ],
 "metadata": {
  "kernelspec": {
   "display_name": "SageMath 10.4",
   "language": "sage",
   "name": "sagemath"
  },
  "language_info": {
   "codemirror_mode": {
    "name": "ipython",
    "version": 3
   },
   "file_extension": ".py",
   "mimetype": "text/x-python",
   "name": "python",
   "nbconvert_exporter": "python",
   "pygments_lexer": "ipython3",
   "version": "3.10.12"
  }
 },
 "nbformat": 4,
 "nbformat_minor": 5
}
