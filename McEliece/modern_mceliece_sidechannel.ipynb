{
 "cells": [
  {
   "cell_type": "code",
   "execution_count": 1,
   "id": "ff11b85e-6c08-472c-9093-387969b25c41",
   "metadata": {
    "scrolled": true
   },
   "outputs": [
    {
     "name": "stdout",
     "output_type": "stream",
     "text": [
      "This is the message\n",
      "[1, 0, 0, 1, 0, 0, 0, 1, 1, 1, 1, 1, 0, 0, 0, 0, 1, 1, 0, 1, 0, 1, 1, 1, 0, 1, 1, 0, 0, 1, 1, 0, 1, 0, 0, 0, 0, 1, 1, 1, 1, 1, 1, 0, 0, 0, 1, 0, 0, 1, 0, 1, 1, 0, 1, 1, 1, 0, 0, 0, 0, 0, 1, 0, 1, 0, 0, 1, 0, 1, 0, 1, 0, 0, 1, 1, 1, 0, 0, 0, 0, 1, 0, 1, 0, 0, 1, 1, 0, 0, 1, 0, 0]\n",
      "This is the codeword:\n",
      "(1, 1, 0, 1, 0, 1, 1, 1, 1, 0, 0, 1, 0, 1, 0, 0, 1, 1, 0, 0, 0, 1, 0, 0, 0, 1, 1, 1, 1, 1, 1, 1, 1, 1, 1, 1, 0, 0, 1, 0, 0, 0, 1, 1, 1, 1, 1, 0, 0, 0, 0, 1, 1, 0, 1, 0, 1, 1, 1, 0, 1, 1, 0, 0, 1, 1, 0, 1, 0, 0, 0, 0, 1, 1, 1, 1, 1, 1, 0, 1, 1, 1, 0, 0, 1, 0, 1, 1, 0, 1, 1, 1, 0, 0, 0, 0, 0, 1, 0, 1, 0, 0, 1, 0, 0, 0, 1, 1, 0, 1, 1, 1, 0, 0, 0, 0, 1, 0, 1, 0, 0, 1, 1, 0, 0, 1, 0, 0)\n",
      "This is the decrypted codeword:\n",
      "(1, 0, 0, 1, 0, 0, 0, 1, 1, 1, 1, 1, 0, 0, 0, 0, 1, 1, 0, 1, 0, 1, 1, 1, 0, 1, 1, 0, 0, 1, 1, 0, 1, 0, 0, 0, 0, 1, 1, 1, 1, 1, 1, 0, 0, 0, 1, 0, 0, 1, 0, 1, 1, 0, 1, 1, 1, 0, 0, 0, 0, 0, 1, 0, 1, 0, 0, 1, 0, 1, 0, 1, 0, 0, 1, 1, 1, 0, 0, 0, 0, 1, 0, 1, 0, 0, 1, 1, 0, 0, 1, 0, 0)\n"
     ]
    }
   ],
   "source": [
    "%run modern_mceliece.ipynb\n",
    "# codeword can be accessed as c and public key as cryptosystem.public_key\n",
    "import time\n",
    "import numpy"
   ]
  },
  {
   "cell_type": "code",
   "execution_count": 2,
   "id": "b34ab1ec-20ae-4ea1-9639-7aa602c3bf36",
   "metadata": {},
   "outputs": [
    {
     "name": "stdout",
     "output_type": "stream",
     "text": [
      "[125, 122, 112, 126, 109]\n",
      "None\n"
     ]
    }
   ],
   "source": [
    "# the goal is to deduce msg just from the ciphertext. Are allowed to choose ciphertexts as we want, but we do not receive the output\n",
    "# this does not work. ideally implement in C on a microcontroller.\n",
    "def guess_error():\n",
    "    times = [0]*(2^m)\n",
    "    for i in range(2^m):\n",
    "        d = c\n",
    "        d[i] = 1-d[i]\n",
    "        start = time.time()\n",
    "        for j in range(10):\n",
    "            cryptosystem.decrypt(d)\n",
    "        end = time.time()\n",
    "        times[i] = end-start\n",
    "    # get the error locations as an array. Correct them in the codeword c\n",
    "    error_guess = numpy.argsort(times).tolist()[0:t]\n",
    "    print(error_guess)\n",
    "    codeword_guess = c\n",
    "    for k in error_guess:\n",
    "        codeword_guess[k] = 1 - codeword_guess[k]\n",
    "    # now hope this is a codeword, i.e. can apply left inverse to G to get it:\n",
    "    G = cryptosystem.public_key.stack(matrix.identity(2^m-m*t)) # generator matrix, n x (n-mt)\n",
    "    \n",
    "    #msg_guess = G.solve_right(codeword_guess)\n",
    "    #return msg_guess\n",
    "print(guess_error())\n",
    "\n",
    "    \n"
   ]
  },
  {
   "cell_type": "code",
   "execution_count": null,
   "id": "b00ea4c9-3924-4e36-a0b8-3876decc19e9",
   "metadata": {},
   "outputs": [],
   "source": []
  }
 ],
 "metadata": {
  "kernelspec": {
   "display_name": "SageMath 10.4",
   "language": "sage",
   "name": "sagemath"
  },
  "language_info": {
   "codemirror_mode": {
    "name": "ipython",
    "version": 3
   },
   "file_extension": ".py",
   "mimetype": "text/x-python",
   "name": "python",
   "nbconvert_exporter": "python",
   "pygments_lexer": "ipython3",
   "version": "3.10.12"
  }
 },
 "nbformat": 4,
 "nbformat_minor": 5
}
